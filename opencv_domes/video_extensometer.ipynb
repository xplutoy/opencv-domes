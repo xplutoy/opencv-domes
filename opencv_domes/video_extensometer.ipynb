{
 "cells": [
  {
   "cell_type": "markdown",
   "metadata": {},
   "source": [
    "# 打开视频文件"
   ]
  },
  {
   "cell_type": "code",
   "execution_count": 1,
   "metadata": {},
   "outputs": [],
   "source": [
    "import os\n",
    "import cv2\n",
    "\n",
    "# cap = cv2.VideoCapture(\"6.avi\")\n",
    "\n",
    "# if not cap.isOpened():\n",
    "#     print(\"Error opening video stream or file\")"
   ]
  },
  {
   "cell_type": "markdown",
   "metadata": {},
   "source": [
    "# 读取帧到指定文件夹"
   ]
  },
  {
   "cell_type": "code",
   "execution_count": 2,
   "metadata": {},
   "outputs": [],
   "source": [
    "frame_dir = \"../data/extensometer_frames/\"\n",
    "# frame_interval = 1000\n",
    "\n",
    "# i = 0\n",
    "# while cap.isOpened():\n",
    "#     ret, frame = cap.read()\n",
    "\n",
    "#     if not ret:\n",
    "#         print(\"Can't receive frame (stream end?). Exiting...\")\n",
    "#         break\n",
    "\n",
    "#     if i % frame_interval == 0:\n",
    "#         cv2.imwrite(\"../data/extensometer_frames/\" + \"img_%s.png\" % str(i).zfill(4), frame)\n",
    "\n",
    "#     i = i + 1"
   ]
  },
  {
   "cell_type": "markdown",
   "metadata": {},
   "source": [
    "# 图像裁剪"
   ]
  },
  {
   "cell_type": "code",
   "execution_count": 3,
   "metadata": {},
   "outputs": [
    {
     "name": "stdout",
     "output_type": "stream",
     "text": [
      "../data/extensometer_frames/*.png\n"
     ]
    }
   ],
   "source": [
    "import glob\n",
    "\n",
    "\n",
    "def list_files_glob(dir_path, ext=\"*.png\"):\n",
    "    glob_pathname = os.path.join(dir_path, ext)\n",
    "    print(glob_pathname)\n",
    "    return glob.glob(glob_pathname, recursive=True)\n",
    "\n",
    "\n",
    "file_lists = list_files_glob(frame_dir)[1:]\n",
    "\n",
    "crop_images_dir = os.path.join(frame_dir, \"crop/\")\n",
    "\n",
    "for _file in file_lists:\n",
    "    im = cv2.imread(_file)\n",
    "    print(im.shape)\n",
    "    im_crop = im[268:328, 120:]\n",
    "    crop_pathname = os.path.join(crop_images_dir, f\"{os.path.basename(_file)}\")\n",
    "    print(crop_pathname)\n",
    "    cv2.imwrite(crop_pathname, im_crop)"
   ]
  },
  {
   "cell_type": "markdown",
   "metadata": {},
   "source": [
    "# 检查红色标记之间的距离"
   ]
  },
  {
   "cell_type": "code",
   "execution_count": 4,
   "metadata": {},
   "outputs": [
    {
     "name": "stdout",
     "output_type": "stream",
     "text": [
      "../data/extensometer_frames/crop/*.png\n",
      "580.0\n"
     ]
    }
   ],
   "source": [
    "crop_file_lists = list_files_glob(crop_images_dir)\n",
    "\n",
    "# 颜色检测\n",
    "import numpy as np\n",
    "\n",
    "\n",
    "def ps_to_py_hsv_color(ps_hsv_color):\n",
    "    return ps_hsv_color[0] / 2, ps_hsv_color[1] * 255 / 100, ps_hsv_color[2] * 255 / 100\n",
    "\n",
    "\n",
    "test_image = cv2.imread(crop_file_lists[0])\n",
    "hsv_image = cv2.cvtColor(test_image, cv2.COLOR_BGR2HSV)\n",
    "\n",
    "# lower_red = (156, 43, 46)\n",
    "# upper_red = (180, 255, 255)\n",
    "hsv_lower_red = (160, 43, 46)\n",
    "hsv_upper_red = (175, 255, 255)\n",
    "\n",
    "# 颜色检测（红色）\n",
    "hsv_mask = cv2.inRange(hsv_image, hsv_lower_red, hsv_upper_red)\n",
    "\n",
    "# 中值平滑，消除噪声\n",
    "hsv_mask_median = cv2.medianBlur(hsv_mask, 9)\n",
    "\n",
    "cv2.imwrite(os.path.join(crop_images_dir, \"test_0.png\"), hsv_image)\n",
    "cv2.imwrite(os.path.join(crop_images_dir, \"test_1.png\"), hsv_mask)\n",
    "cv2.imwrite(os.path.join(crop_images_dir, \"test_2.png\"), hsv_mask_median)\n",
    "\n",
    "# 找到轮廓\n",
    "contours, hierarchy = cv2.findContours(hsv_mask_median, cv2.RETR_TREE, cv2.CHAIN_APPROX_SIMPLE)\n",
    "\n",
    "\n",
    "# 找出面积最大的两个轮廓\n",
    "sorted_contours = sorted(contours, key=lambda x: cv2.contourArea(x), reverse=True)[0:2]\n",
    "\n",
    "# 画出找到的两个最大轮廓\n",
    "# temp = np.ones(hsv_mask_median.shape, np.uint8) * 255\n",
    "# cv2.drawContours(temp, sorted_contours, -1, (0, 255, 0), 3)\n",
    "# cv2.imshow(\"contour\", temp)\n",
    "\n",
    "# 找到最大两个轮廓的边界矩形，并算出他们之间的距离\n",
    "x0, y0, w0, h0 = cv2.boundingRect(sorted_contours[0])  # x,y,w,h\n",
    "x1, y1, w1, h1 = cv2.boundingRect(sorted_contours[1])\n",
    "\n",
    "train_len = abs(x0 + w0 / 2 - x1 - w1 / 2)\n",
    "\n",
    "print(train_len)"
   ]
  }
 ],
 "metadata": {
  "kernelspec": {
   "display_name": ".venv",
   "language": "python",
   "name": "python3"
  },
  "language_info": {
   "codemirror_mode": {
    "name": "ipython",
    "version": 3
   },
   "file_extension": ".py",
   "mimetype": "text/x-python",
   "name": "python",
   "nbconvert_exporter": "python",
   "pygments_lexer": "ipython3",
   "version": "3.12.0"
  }
 },
 "nbformat": 4,
 "nbformat_minor": 2
}
